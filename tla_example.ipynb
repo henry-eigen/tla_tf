{
 "cells": [
  {
   "cell_type": "code",
   "execution_count": 1,
   "metadata": {},
   "outputs": [
    {
     "name": "stderr",
     "output_type": "stream",
     "text": [
      "Using TensorFlow backend.\n"
     ]
    }
   ],
   "source": [
    "import tensorflow as tf\n",
    "\n",
    "from keras import backend as K"
   ]
  },
  {
   "cell_type": "code",
   "execution_count": 5,
   "metadata": {},
   "outputs": [],
   "source": [
    "import time\n",
    "import numpy as np\n",
    "import matplotlib.pyplot as plt\n",
    "\n",
    "from keras.models import Model\n",
    "from keras.utils import Sequence\n",
    "from keras.optimizers import Adam, SGD, RMSprop\n",
    "\n",
    "from keras import regularizers\n",
    "from keras.layers import Input, Dropout, Flatten, AveragePooling2D\n",
    "\n",
    "from keras.datasets import cifar10\n",
    "from keras.utils import to_categorical\n",
    "from keras.preprocessing.image import ImageDataGenerator\n",
    "from keras.callbacks import LearningRateScheduler, ReduceLROnPlateau\n",
    "\n",
    "from IPython.display import SVG\n",
    "from keras.utils.vis_utils import model_to_dot\n",
    "\n",
    "from utils.tla import triplet_loss\n",
    "from utils import res_utils"
   ]
  },
  {
   "cell_type": "code",
   "execution_count": 3,
   "metadata": {},
   "outputs": [],
   "source": [
    "n = 5\n",
    "input_shape = (32, 32, 3)\n",
    "margin = 0.3\n",
    "batch_size = 128\n",
    "\n",
    "stack_1 = res_utils.resnet_stack(0, 16, n, input_shape)\n",
    "stack_1.load_weights(\"saved_weights/stack_1.h5\")\n",
    "\n",
    "stack_2 = res_utils.resnet_stack(1, 32, n, stack_1.output_shape[1:])\n",
    "stack_2.load_weights(\"saved_weights/stack_2.h5\")\n",
    "\n",
    "stack_3 = res_utils.resnet_stack(2, 64, n, stack_2.output_shape[1:])\n",
    "stack_3.load_weights(\"saved_weights/stack_3.h5\")\n",
    "\n",
    "top = res_utils.network_end(stack_3.output_shape[1:])\n",
    "top.load_weights(\"saved_weights/model_top.h5\")"
   ]
  },
  {
   "cell_type": "code",
   "execution_count": 6,
   "metadata": {},
   "outputs": [],
   "source": [
    "input_a = Input(shape=input_shape)\n",
    "\n",
    "# ----------------- Stack 1 -----------------------\n",
    "\n",
    "processed_a = stack_1(input_a)\n",
    "    \n",
    "# ----------------- Stack 2----------------------------\n",
    "\n",
    "processed_a = stack_2(processed_a)\n",
    "\n",
    "# ----------------- Stack 3 ----------------------------\n",
    "\n",
    "processed_a = stack_3(processed_a)\n",
    "\n",
    "# ----------------- Top --------------------------------\n",
    "\n",
    "trip_out = AveragePooling2D(pool_size=8)(processed_a)\n",
    "trip_out = Flatten()(trip_out)\n",
    "\n",
    "cat_1 = top(processed_a)\n",
    "\n",
    "model = Model(input_a, [cat_1, trip_out])"
   ]
  },
  {
   "cell_type": "code",
   "execution_count": 7,
   "metadata": {},
   "outputs": [],
   "source": [
    "def keras_triplet_loss(y_true, y_pred):\n",
    "    return K.mean(triplet_loss(y_true, y_pred, margin=0.03))"
   ]
  },
  {
   "cell_type": "code",
   "execution_count": 8,
   "metadata": {},
   "outputs": [],
   "source": [
    "model.compile(loss=['categorical_crossentropy', keras_triplet_loss],\n",
    "              loss_weights = [1.0, 4.0],\n",
    "              optimizer=Adam(lr=1e-4),\n",
    "              metrics=['acc'])"
   ]
  },
  {
   "cell_type": "markdown",
   "metadata": {},
   "source": [
    "# Define Adv Model"
   ]
  },
  {
   "cell_type": "code",
   "execution_count": 9,
   "metadata": {},
   "outputs": [],
   "source": [
    "adv_model = Model(input_a, cat_1)\n",
    "\n",
    "adv_model.compile(loss='categorical_crossentropy', optimizer=Adam(lr=1e-3), metrics=['accuracy'])"
   ]
  },
  {
   "cell_type": "markdown",
   "metadata": {},
   "source": [
    "# Load Data"
   ]
  },
  {
   "cell_type": "code",
   "execution_count": 10,
   "metadata": {},
   "outputs": [],
   "source": [
    "from keras.datasets import cifar10\n",
    "from keras.utils import to_categorical\n",
    "\n",
    "(x_train, y_train), (x_test, y_test) = cifar10.load_data()\n",
    "\n",
    "x_train = x_train.astype('float32') / 255.\n",
    "x_test = x_test.astype('float32') / 255.\n",
    "\n",
    "y_train = to_categorical(y_train, 10)\n",
    "y_test = to_categorical(y_test, 10)"
   ]
  },
  {
   "cell_type": "markdown",
   "metadata": {},
   "source": [
    "# Set up Adv"
   ]
  },
  {
   "cell_type": "code",
   "execution_count": 11,
   "metadata": {},
   "outputs": [],
   "source": [
    "import psutil\n",
    "\n",
    "def restrict_cpu():\n",
    "    p = psutil.Process()\n",
    "\n",
    "    for i in p.threads():\n",
    "        temp = psutil.Process(i.id)\n",
    "\n",
    "        temp.cpu_affinity([i for i in range(8)])"
   ]
  },
  {
   "cell_type": "code",
   "execution_count": 12,
   "metadata": {},
   "outputs": [],
   "source": [
    "from art.classifiers import KerasClassifier\n",
    "from art.attacks.evasion.projected_gradient_descent import ProjectedGradientDescent\n",
    "\n",
    "\n",
    "art_model = KerasClassifier(clip_values=(0., 1.), model=adv_model, use_logits=False)\n",
    "#attack = ProjectedGradientDescent(art_model, norm=2, eps=3, eps_step=0.6, max_iter=6, batch_size=16)\n",
    "attack = ProjectedGradientDescent(art_model, norm=np.inf, eps=8/255., eps_step=2/255., max_iter=7, batch_size=16)\n",
    "\n",
    "\n",
    "adv_test = attack.generate(x_test[:20])\n",
    "\n",
    "restrict_cpu()"
   ]
  },
  {
   "cell_type": "code",
   "execution_count": 12,
   "metadata": {},
   "outputs": [
    {
     "name": "stdout",
     "output_type": "stream",
     "text": [
      "[0.4370940148830414, 0.9210000038146973]\n",
      "[39.828236328125, 0.054999999701976776]\n"
     ]
    }
   ],
   "source": [
    "print(adv_model.evaluate(x_test[:1000], y_test[:1000], verbose=0))\n",
    "\n",
    "x_test_adv = attack.generate(x_test[:1000])\n",
    "\n",
    "print(adv_model.evaluate(x_test_adv, y_test[:1000], verbose=0))"
   ]
  },
  {
   "cell_type": "markdown",
   "metadata": {},
   "source": [
    "# Setting up training"
   ]
  },
  {
   "cell_type": "code",
   "execution_count": 13,
   "metadata": {},
   "outputs": [],
   "source": [
    "class DataGenerator(Sequence):\n",
    "    'Generates data for Keras'\n",
    "    def __init__(self, X, Y, batch_size=32):\n",
    "        'Initialization'\n",
    "        self.x = X\n",
    "        self.y = Y\n",
    "        self.anc_idxs = np.arange(len(X))\n",
    "        self.batch_size = batch_size\n",
    "        self.on_epoch_end()\n",
    "\n",
    "    def __len__(self):\n",
    "        'Denotes the number of batches per epoch'\n",
    "        return int(np.floor(len(self.x) / self.batch_size))\n",
    "\n",
    "    def __getitem__(self, index):\n",
    "        \n",
    "        a_indexes = self.anc_idxs[index*self.batch_size:(index+1)*self.batch_size]\n",
    "\n",
    "        x, y = self.__data_generation(a_indexes)\n",
    "\n",
    "        return x, y\n",
    "\n",
    "    def on_epoch_end(self):\n",
    "        np.random.shuffle(self.anc_idxs)\n",
    "\n",
    "    def __data_generation(self, a_idx):\n",
    "\n",
    "        anchor = attack.generate(self.x[a_idx])\n",
    "        positive = self.x[a_idx]\n",
    "\n",
    "        X = np.concatenate((anchor, positive), axis=0)\n",
    "\n",
    "        y_1 = self.y[a_idx]\n",
    "        y_2 = self.y[a_idx]\n",
    "        \n",
    "        y_soft = np.concatenate((y_1, y_2), axis=0)\n",
    "        \n",
    "        y_triplet = np.argmax(y_soft, axis=-1)\n",
    "        y_triplet = np.expand_dims(y_triplet, axis=-1)\n",
    "        \n",
    "        Y = [y_soft, y_triplet]\n",
    "\n",
    "        return X, Y"
   ]
  },
  {
   "cell_type": "code",
   "execution_count": 14,
   "metadata": {},
   "outputs": [],
   "source": [
    "train_generator = DataGenerator(x_train, y_train, batch_size=batch_size)\n",
    "valid_generator = DataGenerator(x_test, y_test, batch_size=batch_size)"
   ]
  },
  {
   "cell_type": "code",
   "execution_count": 15,
   "metadata": {},
   "outputs": [
    {
     "name": "stdout",
     "output_type": "stream",
     "text": [
      "256/256 [==============================] - 2s 6ms/step\n",
      "('loss', 21.501413345336914)\n",
      "('model_4_loss', 20.10817527770996)\n",
      "('flatten_2_loss', 0.30803659558296204)\n",
      "('model_4_acc', 0.5)\n",
      "('flatten_2_acc', 0.00390625)\n"
     ]
    },
    {
     "data": {
      "text/plain": [
       "[None, None, None, None, None]"
      ]
     },
     "execution_count": 15,
     "metadata": {},
     "output_type": "execute_result"
    }
   ],
   "source": [
    "batch = train_generator.__getitem__(2)\n",
    "\n",
    "loss = model.evaluate(batch[0], batch[1], batch_size=batch_size * 2)\n",
    "\n",
    "[print(i) for i in zip(model.metrics_names, loss)]"
   ]
  },
  {
   "cell_type": "code",
   "execution_count": 16,
   "metadata": {},
   "outputs": [
    {
     "name": "stdout",
     "output_type": "stream",
     "text": [
      "Verifying model loss:\n",
      "\n",
      "0.30803657\n"
     ]
    }
   ],
   "source": [
    "trip_model = Model(input_a, trip_out)\n",
    "\n",
    "trip_preds = trip_model.predict(batch[0])\n",
    "\n",
    "print(\"Verifying model loss:\\n\")\n",
    "print(K.mean(triplet_loss(batch[1][1], trip_preds, margin=0.03)).numpy())"
   ]
  },
  {
   "cell_type": "code",
   "execution_count": 1,
   "metadata": {},
   "outputs": [],
   "source": [
    " Hyper parameters\n",
    "evaluate_every = 75 # interval for evaluating on one-shot tasks\n",
    "n_iter = 2_500 # No. of training iterations\n",
    "n_iteration = 0\n",
    "\n",
    "loss_list = []\n",
    "\n",
    "base_acc = []\n",
    "soft_loss = []\n",
    "trip_loss_1 = []\n",
    "\n",
    "print(\"Starting training process!\")\n",
    "print(\"-------------------------------------\")\n",
    "\n",
    "t_start = time.time()\n",
    "\n",
    "for i in range(1, n_iter+1):\n",
    "    \n",
    "    batch = train_generator.__getitem__(n_iteration % train_generator.__len__())\n",
    "    \n",
    "    loss = model.train_on_batch(batch[0], batch[1])\n",
    "    \n",
    "    base_acc.append(loss[3])\n",
    "    soft_loss.append(loss[1])\n",
    "    trip_loss_1.append(loss[2])\n",
    "    \n",
    "    n_iteration += 1\n",
    "        \n",
    "    if i % 4000 == 0:\n",
    "        K.set_value(model.optimizer.lr, K.get_value(model.optimizer.lr)/2.0)\n",
    "    \n",
    "    if i % train_generator.__len__() == 0:\n",
    "        train_generator.on_epoch_end()\n",
    "    \n",
    "    if i % evaluate_every == 0:\n",
    "        \n",
    "        ploss = (np.mean(base_acc), np.mean(soft_loss), np.mean(trip_loss_1))\n",
    "        \n",
    "        loss_list.append(ploss)\n",
    "        base_acc = []\n",
    "        soft_loss = []\n",
    "        trip_loss_1 = []\n",
    "        \n",
    "        print(\"\\n ------------- \\n\")\n",
    "        print(\"[{3}] Time for {0} iterations: {1:.1f} mins, Train Loss: {2}\".format(i, (time.time()-t_start)/60.0,ploss,n_iteration))"
   ]
  },
  {
   "cell_type": "code",
   "execution_count": 18,
   "metadata": {},
   "outputs": [
    {
     "name": "stdout",
     "output_type": "stream",
     "text": [
      "[0.839710036277771, 0.7639999985694885]\n",
      "[1.762487349510193, 0.36899998784065247]\n"
     ]
    }
   ],
   "source": [
    "print(adv_model.evaluate(x_test[:1000], y_test[:1000], verbose=0))\n",
    "\n",
    "x_test_adv = attack.generate(x_test[:1000])\n",
    "\n",
    "print(adv_model.evaluate(x_test_adv, y_test[:1000], verbose=0))"
   ]
  },
  {
   "cell_type": "code",
   "execution_count": 95,
   "metadata": {},
   "outputs": [],
   "source": [
    "from utils.tla import _get_label_mask\n",
    "from sklearn.metrics.pairwise import cosine_similarity\n",
    "\n",
    "# get negatives mask\n",
    "flat_labels = tf.squeeze(batch[1][1])\n",
    "label_mask = 2 * tf.cast(_get_label_mask(flat_labels), tf.float32)\n",
    "\n",
    "masked_dot_product = tf.add(dot_product, label_mask)\n",
    "\n",
    "# get negative distances\n",
    "neg_dists = tf.reduce_min(masked_dot_product, axis=1).numpy()"
   ]
  },
  {
   "cell_type": "code",
   "execution_count": 96,
   "metadata": {},
   "outputs": [
    {
     "name": "stdout",
     "output_type": "stream",
     "text": [
      "Pos dists:  0.0567 0.03361584\n",
      "Neg dists:  0.3677 0.10953977\n"
     ]
    }
   ],
   "source": [
    "p_dists = tf.linalg.diag_part(dot_product).numpy()\n",
    "\n",
    "print(\"Pos dists: \", p_dists.mean().round(4), p_dists.std())\n",
    "print(\"Neg dists: \", neg_dists.mean().round(4), neg_dists.std())"
   ]
  },
  {
   "cell_type": "code",
   "execution_count": 99,
   "metadata": {},
   "outputs": [
    {
     "name": "stdout",
     "output_type": "stream",
     "text": [
      "Label: 7   Confidence: 0.8706218\n"
     ]
    },
    {
     "data": {
      "image/png": "[encoded data removed]",
      "text/plain": [
       "<Figure size 432x288 with 1 Axes>"
      ]
     },
     "metadata": {
      "needs_background": "light"
     },
     "output_type": "display_data"
    },
    {
     "name": "stdout",
     "output_type": "stream",
     "text": [
      "Label: 4   Confidence: 0.61823916\n"
     ]
    },
    {
     "data": {
      "image/png": "[encoded data removed]",
      "text/plain": [
       "<Figure size 432x288 with 1 Axes>"
      ]
     },
     "metadata": {
      "needs_background": "light"
     },
     "output_type": "display_data"
    },
    {
     "name": "stdout",
     "output_type": "stream",
     "text": [
      "Distance: [[0.06191278]]\n"
     ]
    }
   ],
   "source": [
    "idx = 0\n",
    "adv_pred = model.predict(batch[0][idx:idx+1])\n",
    "print(\"Label:\", adv_pred[0].argmax(), \"  Confidence:\", adv_pred[0].max())\n",
    "plt.imshow(batch[0][idx])\n",
    "plt.show()\n",
    "\n",
    "clean_pred = model.predict(batch[0][idx+128:idx+129])\n",
    "print(\"Label:\", clean_pred[0].argmax(), \"  Confidence:\", clean_pred[0].max())\n",
    "plt.imshow(batch[0][idx+128])\n",
    "plt.show()\n",
    "\n",
    "print(\"Distance:\", 1 - cosine_similarity(adv_pred[1], clean_pred[1]))"
   ]
  },
  {
   "cell_type": "code",
   "execution_count": null,
   "metadata": {},
   "outputs": [],
   "source": []
  },
  {
   "cell_type": "code",
   "execution_count": null,
   "metadata": {},
   "outputs": [],
   "source": []
  },
  {
   "cell_type": "code",
   "execution_count": null,
   "metadata": {},
   "outputs": [],
   "source": []
  },
  {
   "cell_type": "code",
   "execution_count": null,
   "metadata": {},
   "outputs": [],
   "source": []
  },
  {
   "cell_type": "code",
   "execution_count": null,
   "metadata": {},
   "outputs": [],
   "source": []
  },
  {
   "cell_type": "code",
   "execution_count": null,
   "metadata": {},
   "outputs": [],
   "source": []
  },
  {
   "cell_type": "code",
   "execution_count": null,
   "metadata": {},
   "outputs": [],
   "source": []
  },
  {
   "cell_type": "code",
   "execution_count": null,
   "metadata": {},
   "outputs": [],
   "source": []
  },
  {
   "cell_type": "code",
   "execution_count": null,
   "metadata": {},
   "outputs": [],
   "source": []
  },
  {
   "cell_type": "code",
   "execution_count": null,
   "metadata": {},
   "outputs": [],
   "source": []
  }
 ],
 "metadata": {
  "kernelspec": {
   "display_name": "Python 3",
   "language": "python",
   "name": "python3"
  },
  "language_info": {
   "codemirror_mode": {
    "name": "ipython",
    "version": 3
   },
   "file_extension": ".py",
   "mimetype": "text/x-python",
   "name": "python",
   "nbconvert_exporter": "python",
   "pygments_lexer": "ipython3",
   "version": "3.6.8"
  }
 },
 "nbformat": 4,
 "nbformat_minor": 2
}
